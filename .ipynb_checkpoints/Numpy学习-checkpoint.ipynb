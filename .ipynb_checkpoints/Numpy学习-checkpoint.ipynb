{
 "cells": [
  {
   "cell_type": "markdown",
   "id": "arabic-daniel",
   "metadata": {},
   "source": [
    "一些Array之间的操作"
   ]
  },
  {
   "cell_type": "code",
   "execution_count": 2,
   "id": "prime-stationery",
   "metadata": {},
   "outputs": [
    {
     "name": "stdout",
     "output_type": "stream",
     "text": [
      "[[0. 0. 0. 0. 0.]\n",
      " [2. 0. 0. 0. 0.]\n",
      " [0. 3. 0. 0. 0.]\n",
      " [0. 0. 4. 0. 0.]\n",
      " [0. 0. 0. 5. 0.]\n",
      " [0. 0. 0. 0. 6.]]\n"
     ]
    }
   ],
   "source": [
    "import numpy as np\n",
    "a = np.diag([2,3,4,5,6])\n",
    "a = np.vstack((np.zeros(5),a))\n",
    "np.disp(a)"
   ]
  },
  {
   "cell_type": "markdown",
   "id": "ceramic-restoration",
   "metadata": {},
   "source": [
    "Numpy的array就是数组，区别于另一个matrix，一些矩阵上的运算不能直接在array上进行，注意区别于Matlab\n",
    "\n",
    "比如一下实现一个矩阵相乘"
   ]
  },
  {
   "cell_type": "code",
   "execution_count": 4,
   "id": "elementary-green",
   "metadata": {},
   "outputs": [
    {
     "name": "stdout",
     "output_type": "stream",
     "text": [
      "[[5]]\n"
     ]
    }
   ],
   "source": [
    "import numpy as np\n",
    "a1=np.mat([1,2]);      \n",
    "a2=np.mat([[1],[2]]);"
   ]
  },
  {
   "cell_type": "code",
   "execution_count": null,
   "id": "changing-meaning",
   "metadata": {},
   "outputs": [],
   "source": []
  }
 ],
 "metadata": {
  "kernelspec": {
   "display_name": "Python 3",
   "language": "python",
   "name": "python3"
  },
  "language_info": {
   "codemirror_mode": {
    "name": "ipython",
    "version": 3
   },
   "file_extension": ".py",
   "mimetype": "text/x-python",
   "name": "python",
   "nbconvert_exporter": "python",
   "pygments_lexer": "ipython3",
   "version": "3.8.5"
  }
 },
 "nbformat": 4,
 "nbformat_minor": 5
}
