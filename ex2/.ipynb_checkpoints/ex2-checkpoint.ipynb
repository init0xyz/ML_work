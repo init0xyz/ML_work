{
 "cells": [
  {
   "cell_type": "markdown",
   "id": "turned-burlington",
   "metadata": {},
   "source": [
    "# Logistic Regression"
   ]
  },
  {
   "cell_type": "code",
   "execution_count": 23,
   "id": "worldwide-deadline",
   "metadata": {},
   "outputs": [],
   "source": [
    "### import some neccessary lib\n",
    "import numpy as np\n",
    "from scipy.optimize import minimize\n",
    "import matplotlib.pyplot as plt\n",
    "import ex2\n",
    "from imp import reload"
   ]
  },
  {
   "cell_type": "code",
   "execution_count": 106,
   "id": "incorporated-burner",
   "metadata": {},
   "outputs": [
    {
     "data": {
      "image/png": "[encoded data removed]",
      "text/plain": [
       "<Figure size 432x288 with 1 Axes>"
      ]
     },
     "metadata": {
      "needs_background": "light"
     },
     "output_type": "display_data"
    }
   ],
   "source": [
    "data = np.loadtxt(\"ex2data1.txt\",delimiter=',')\n",
    "X = data[:, :-1]\n",
    "y = data[:,2]\n",
    "y = y.reshape((y.size,1))\n",
    "pos = np.where(y == 1)\n",
    "neg = np.where(y == 0)\n",
    "plt.plot(X[pos,0],X[pos,1],'k+',linewidth = 2,markersize = 7.0,label = \"Admitted\")\n",
    "plt.plot(X[neg,0],X[neg,1],'ko',markerfacecolor = 'y',markersize = 7.0,label = \"Not Admitted\")\n",
    "plt.xlabel(\"Exam 1 score\")\n",
    "plt.ylabel(\"Exam 2 score\")\n",
    "### 解决label重复的问题\n",
    "handles, labels = plt.gca().get_legend_handles_labels()\n",
    "by_label = dict(zip(labels, handles))\n",
    "plt.legend(by_label.values(), by_label.keys())\n",
    "plt.show()"
   ]
  },
  {
   "cell_type": "code",
   "execution_count": 127,
   "id": "clean-diary",
   "metadata": {},
   "outputs": [
    {
     "name": "stdout",
     "output_type": "stream",
     "text": [
      "Optimization terminated successfully.\n",
      "         Current function value: 0.203498\n",
      "         Iterations: 23\n",
      "         Function evaluations: 31\n",
      "         Gradient evaluations: 31\n",
      "      fun: 0.20349770158944377\n",
      " hess_inv: array([[ 3.31474479e+03, -2.63892205e+01, -2.70237122e+01],\n",
      "       [-2.63892205e+01,  2.23869433e-01,  2.02682332e-01],\n",
      "       [-2.70237122e+01,  2.02682332e-01,  2.35335117e-01]])\n",
      "      jac: array([-9.52476805e-09, -9.31921307e-07, -2.82608919e-07])\n",
      "  message: 'Optimization terminated successfully.'\n",
      "     nfev: 31\n",
      "      nit: 23\n",
      "     njev: 31\n",
      "   status: 0\n",
      "  success: True\n",
      "        x: array([-25.16133284,   0.2062317 ,   0.2014716 ])\n"
     ]
    }
   ],
   "source": [
    "reload(ex2)\n",
    "ex2.init(X,y)\n",
    "(m,n) = X.shape\n",
    "\n",
    "init_theta = np.zeros(n+1)\n",
    "cost = ex2.costFunction(init_theta)\n",
    "grad = ex2.Gradient(init_theta)\n",
    "theta = minimize(ex2.costFunction,init_theta,method=\"BFGS\",jac = ex2.Gradient,options={'disp':True})"
   ]
  },
  {
   "cell_type": "code",
   "execution_count": null,
   "id": "honest-coral",
   "metadata": {},
   "outputs": [],
   "source": []
  }
 ],
 "metadata": {
  "kernelspec": {
   "display_name": "Python 3",
   "language": "python",
   "name": "python3"
  },
  "language_info": {
   "codemirror_mode": {
    "name": "ipython",
    "version": 3
   },
   "file_extension": ".py",
   "mimetype": "text/x-python",
   "name": "python",
   "nbconvert_exporter": "python",
   "pygments_lexer": "ipython3",
   "version": "3.8.5"
  }
 },
 "nbformat": 4,
 "nbformat_minor": 5
}
