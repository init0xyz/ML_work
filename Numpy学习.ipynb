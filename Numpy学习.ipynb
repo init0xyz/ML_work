{
 "cells": [
  {
   "cell_type": "markdown",
   "id": "adopted-bowling",
   "metadata": {},
   "source": [
    "一些Array之间的操作"
   ]
  },
  {
   "cell_type": "code",
   "execution_count": 2,
   "id": "peripheral-colonial",
   "metadata": {},
   "outputs": [
    {
     "name": "stdout",
     "output_type": "stream",
     "text": [
      "[[0. 0. 0. 0. 0.]\n",
      " [2. 0. 0. 0. 0.]\n",
      " [0. 3. 0. 0. 0.]\n",
      " [0. 0. 4. 0. 0.]\n",
      " [0. 0. 0. 5. 0.]\n",
      " [0. 0. 0. 0. 6.]]\n"
     ]
    }
   ],
   "source": [
    "import numpy as np\n",
    "a = np.diag([2,3,4,5,6])\n",
    "a = np.vstack((np.zeros(5),a))\n",
    "np.disp(a)"
   ]
  },
  {
   "cell_type": "markdown",
   "id": "peaceful-sender",
   "metadata": {},
   "source": [
    "实现一个矩阵相乘"
   ]
  },
  {
   "cell_type": "code",
   "execution_count": 6,
   "id": "bizarre-privacy",
   "metadata": {},
   "outputs": [
    {
     "name": "stdout",
     "output_type": "stream",
     "text": [
      "[3 8]\n",
      "11\n"
     ]
    }
   ],
   "source": [
    "import numpy as np\n",
    "a = np.array([1,2]).transpose()\n",
    "b = np.array([3,4])\n",
    "# 按元素相乘\n",
    "print((a.T)*b)\n",
    "# 矩阵相乘\n",
    "print(np.dot(a,b))"
   ]
  },
  {
   "cell_type": "code",
   "execution_count": null,
   "id": "bound-prediction",
   "metadata": {},
   "outputs": [],
   "source": []
  }
 ],
 "metadata": {
  "kernelspec": {
   "display_name": "Python 3",
   "language": "python",
   "name": "python3"
  },
  "language_info": {
   "codemirror_mode": {
    "name": "ipython",
    "version": 3
   },
   "file_extension": ".py",
   "mimetype": "text/x-python",
   "name": "python",
   "nbconvert_exporter": "python",
   "pygments_lexer": "ipython3",
   "version": "3.8.5"
  }
 },
 "nbformat": 4,
 "nbformat_minor": 5
}
